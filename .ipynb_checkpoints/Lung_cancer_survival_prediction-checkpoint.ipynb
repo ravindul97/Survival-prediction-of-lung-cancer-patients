{
 "cells": [
  {
   "cell_type": "code",
   "execution_count": 1,
   "id": "9b5904ba",
   "metadata": {},
   "outputs": [],
   "source": [
    "import pandas as pd\n",
    "import numpy as np\n",
    "from matplotlib import pyplot as plt\n",
    "%matplotlib inline"
   ]
  },
  {
   "cell_type": "code",
   "execution_count": 2,
   "id": "25ae0c34",
   "metadata": {},
   "outputs": [
    {
     "data": {
      "text/html": [
       "<div>\n",
       "<style scoped>\n",
       "    .dataframe tbody tr th:only-of-type {\n",
       "        vertical-align: middle;\n",
       "    }\n",
       "\n",
       "    .dataframe tbody tr th {\n",
       "        vertical-align: top;\n",
       "    }\n",
       "\n",
       "    .dataframe thead th {\n",
       "        text-align: right;\n",
       "    }\n",
       "</style>\n",
       "<table border=\"1\" class=\"dataframe\">\n",
       "  <thead>\n",
       "    <tr style=\"text-align: right;\">\n",
       "      <th></th>\n",
       "      <th>id</th>\n",
       "      <th>diagnose</th>\n",
       "      <th>in_vol</th>\n",
       "      <th>out_vol</th>\n",
       "      <th>pain</th>\n",
       "      <th>Haemoptysis</th>\n",
       "      <th>short_breath</th>\n",
       "      <th>cough</th>\n",
       "      <th>weekness</th>\n",
       "      <th>tumour_size</th>\n",
       "      <th>diabetes</th>\n",
       "      <th>breathing_difficulty</th>\n",
       "      <th>other_disease</th>\n",
       "      <th>smoking</th>\n",
       "      <th>asthma</th>\n",
       "      <th>age</th>\n",
       "      <th>survive</th>\n",
       "    </tr>\n",
       "  </thead>\n",
       "  <tbody>\n",
       "    <tr>\n",
       "      <th>0</th>\n",
       "      <td>1</td>\n",
       "      <td>DGN2</td>\n",
       "      <td>2.88</td>\n",
       "      <td>2.16</td>\n",
       "      <td>F</td>\n",
       "      <td>F</td>\n",
       "      <td>F</td>\n",
       "      <td>T</td>\n",
       "      <td>T</td>\n",
       "      <td>OC14</td>\n",
       "      <td>F</td>\n",
       "      <td>F</td>\n",
       "      <td>F</td>\n",
       "      <td>T</td>\n",
       "      <td>F</td>\n",
       "      <td>60</td>\n",
       "      <td>2</td>\n",
       "    </tr>\n",
       "    <tr>\n",
       "      <th>1</th>\n",
       "      <td>2</td>\n",
       "      <td>DGN3</td>\n",
       "      <td>3.40</td>\n",
       "      <td>1.88</td>\n",
       "      <td>F</td>\n",
       "      <td>F</td>\n",
       "      <td>F</td>\n",
       "      <td>F</td>\n",
       "      <td>F</td>\n",
       "      <td>OC12</td>\n",
       "      <td>F</td>\n",
       "      <td>F</td>\n",
       "      <td>F</td>\n",
       "      <td>T</td>\n",
       "      <td>F</td>\n",
       "      <td>51</td>\n",
       "      <td>2</td>\n",
       "    </tr>\n",
       "    <tr>\n",
       "      <th>2</th>\n",
       "      <td>3</td>\n",
       "      <td>DGN3</td>\n",
       "      <td>2.76</td>\n",
       "      <td>2.08</td>\n",
       "      <td>F</td>\n",
       "      <td>F</td>\n",
       "      <td>F</td>\n",
       "      <td>T</td>\n",
       "      <td>F</td>\n",
       "      <td>OC11</td>\n",
       "      <td>F</td>\n",
       "      <td>F</td>\n",
       "      <td>F</td>\n",
       "      <td>T</td>\n",
       "      <td>F</td>\n",
       "      <td>59</td>\n",
       "      <td>2</td>\n",
       "    </tr>\n",
       "    <tr>\n",
       "      <th>3</th>\n",
       "      <td>4</td>\n",
       "      <td>DGN3</td>\n",
       "      <td>3.68</td>\n",
       "      <td>3.04</td>\n",
       "      <td>F</td>\n",
       "      <td>F</td>\n",
       "      <td>F</td>\n",
       "      <td>F</td>\n",
       "      <td>F</td>\n",
       "      <td>OC11</td>\n",
       "      <td>F</td>\n",
       "      <td>F</td>\n",
       "      <td>F</td>\n",
       "      <td>F</td>\n",
       "      <td>F</td>\n",
       "      <td>54</td>\n",
       "      <td>2</td>\n",
       "    </tr>\n",
       "    <tr>\n",
       "      <th>4</th>\n",
       "      <td>5</td>\n",
       "      <td>DGN3</td>\n",
       "      <td>2.44</td>\n",
       "      <td>0.96</td>\n",
       "      <td>F</td>\n",
       "      <td>T</td>\n",
       "      <td>F</td>\n",
       "      <td>T</td>\n",
       "      <td>T</td>\n",
       "      <td>OC11</td>\n",
       "      <td>F</td>\n",
       "      <td>F</td>\n",
       "      <td>F</td>\n",
       "      <td>T</td>\n",
       "      <td>F</td>\n",
       "      <td>73</td>\n",
       "      <td>1</td>\n",
       "    </tr>\n",
       "  </tbody>\n",
       "</table>\n",
       "</div>"
      ],
      "text/plain": [
       "   id diagnose  in_vol  out_vol pain Haemoptysis short_breath cough weekness  \\\n",
       "0   1     DGN2    2.88     2.16    F           F            F     T        T   \n",
       "1   2     DGN3    3.40     1.88    F           F            F     F        F   \n",
       "2   3     DGN3    2.76     2.08    F           F            F     T        F   \n",
       "3   4     DGN3    3.68     3.04    F           F            F     F        F   \n",
       "4   5     DGN3    2.44     0.96    F           T            F     T        T   \n",
       "\n",
       "  tumour_size diabetes breathing_difficulty other_disease smoking asthma  age  \\\n",
       "0        OC14        F                    F             F       T      F   60   \n",
       "1        OC12        F                    F             F       T      F   51   \n",
       "2        OC11        F                    F             F       T      F   59   \n",
       "3        OC11        F                    F             F       F      F   54   \n",
       "4        OC11        F                    F             F       T      F   73   \n",
       "\n",
       "   survive  \n",
       "0        2  \n",
       "1        2  \n",
       "2        2  \n",
       "3        2  \n",
       "4        1  "
      ]
     },
     "execution_count": 2,
     "metadata": {},
     "output_type": "execute_result"
    }
   ],
   "source": [
    "df = pd.read_csv('ThoraricSurgery.csv')\n",
    "df.head()"
   ]
  },
  {
   "cell_type": "code",
   "execution_count": 3,
   "id": "1028f7f9",
   "metadata": {},
   "outputs": [
    {
     "name": "stdout",
     "output_type": "stream",
     "text": [
      "<class 'pandas.core.frame.DataFrame'>\n",
      "RangeIndex: 470 entries, 0 to 469\n",
      "Data columns (total 17 columns):\n",
      " #   Column                Non-Null Count  Dtype  \n",
      "---  ------                --------------  -----  \n",
      " 0   id                    470 non-null    int64  \n",
      " 1   diagnose              470 non-null    object \n",
      " 2   in_vol                470 non-null    float64\n",
      " 3   out_vol               470 non-null    float64\n",
      " 4   pain                  470 non-null    object \n",
      " 5   Haemoptysis           470 non-null    object \n",
      " 6   short_breath          470 non-null    object \n",
      " 7   cough                 470 non-null    object \n",
      " 8   weekness              470 non-null    object \n",
      " 9   tumour_size           470 non-null    object \n",
      " 10  diabetes              470 non-null    object \n",
      " 11  breathing_difficulty  470 non-null    object \n",
      " 12  other_disease         470 non-null    object \n",
      " 13  smoking               470 non-null    object \n",
      " 14  asthma                470 non-null    object \n",
      " 15  age                   470 non-null    int64  \n",
      " 16  survive               470 non-null    int64  \n",
      "dtypes: float64(2), int64(3), object(12)\n",
      "memory usage: 62.5+ KB\n"
     ]
    }
   ],
   "source": [
    "df.info()"
   ]
  },
  {
   "cell_type": "code",
   "execution_count": 4,
   "id": "c5dc4dba",
   "metadata": {},
   "outputs": [
    {
     "data": {
      "text/plain": [
       "id         0.074924\n",
       "in_vol     0.046374\n",
       "out_vol    0.042841\n",
       "age       -0.038902\n",
       "survive    1.000000\n",
       "Name: survive, dtype: float64"
      ]
     },
     "execution_count": 4,
     "metadata": {},
     "output_type": "execute_result"
    }
   ],
   "source": [
    "df.corr()['survive']"
   ]
  },
  {
   "cell_type": "code",
   "execution_count": 5,
   "id": "b48a6c91",
   "metadata": {},
   "outputs": [
    {
     "data": {
      "text/plain": [
       "(470, 17)"
      ]
     },
     "execution_count": 5,
     "metadata": {},
     "output_type": "execute_result"
    }
   ],
   "source": [
    "df.shape\n"
   ]
  },
  {
   "cell_type": "code",
   "execution_count": 6,
   "id": "e4433a65",
   "metadata": {},
   "outputs": [
    {
     "data": {
      "text/plain": [
       "id                      0\n",
       "diagnose                0\n",
       "in_vol                  0\n",
       "out_vol                 0\n",
       "pain                    0\n",
       "Haemoptysis             0\n",
       "short_breath            0\n",
       "cough                   0\n",
       "weekness                0\n",
       "tumour_size             0\n",
       "diabetes                0\n",
       "breathing_difficulty    0\n",
       "other_disease           0\n",
       "smoking                 0\n",
       "asthma                  0\n",
       "age                     0\n",
       "survive                 0\n",
       "dtype: int64"
      ]
     },
     "execution_count": 6,
     "metadata": {},
     "output_type": "execute_result"
    }
   ],
   "source": [
    "df.isnull().sum()"
   ]
  },
  {
   "cell_type": "code",
   "execution_count": 7,
   "id": "b0fc4a14",
   "metadata": {},
   "outputs": [
    {
     "data": {
      "text/plain": [
       "DGN3    349\n",
       "DGN2     52\n",
       "DGN4     47\n",
       "DGN5     15\n",
       "DGN6      4\n",
       "DGN8      2\n",
       "DGN1      1\n",
       "Name: diagnose, dtype: int64"
      ]
     },
     "execution_count": 7,
     "metadata": {},
     "output_type": "execute_result"
    }
   ],
   "source": [
    "df['diagnose'].value_counts()"
   ]
  },
  {
   "cell_type": "code",
   "execution_count": 8,
   "id": "78505a74",
   "metadata": {},
   "outputs": [
    {
     "data": {
      "text/plain": [
       "OC12    257\n",
       "OC11    177\n",
       "OC13     19\n",
       "OC14     17\n",
       "Name: tumour_size, dtype: int64"
      ]
     },
     "execution_count": 8,
     "metadata": {},
     "output_type": "execute_result"
    }
   ],
   "source": [
    "df['tumour_size'].value_counts()"
   ]
  },
  {
   "cell_type": "code",
   "execution_count": 9,
   "id": "08175ae5",
   "metadata": {},
   "outputs": [
    {
     "data": {
      "text/plain": [
       "2    400\n",
       "1     70\n",
       "Name: survive, dtype: int64"
      ]
     },
     "execution_count": 9,
     "metadata": {},
     "output_type": "execute_result"
    }
   ],
   "source": [
    "df.survive.value_counts()"
   ]
  },
  {
   "cell_type": "code",
   "execution_count": 10,
   "id": "5c1fe6cf",
   "metadata": {},
   "outputs": [
    {
     "name": "stdout",
     "output_type": "stream",
     "text": [
      "id: [  1   2   3   4   5   6   7   8   9  10  11  12  13  14  15  16  17  18\n",
      "  19  20  21  22  23  24  25  26  27  28  29  30  31  32  33  34  35  36\n",
      "  37  38  39  40  41  42  43  44  45  46  47  48  49  50  51  52  53  54\n",
      "  55  56  57  58  59  60  61  62  63  64  65  66  67  68  69  70  71  72\n",
      "  73  74  75  76  77  78  79  80  81  82  83  84  85  86  87  88  89  90\n",
      "  91  92  93  94  95  96  97  98  99 100 101 102 103 104 105 106 107 108\n",
      " 109 110 111 112 113 114 115 116 117 118 119 120 121 122 123 124 125 126\n",
      " 127 128 129 130 131 132 133 134 135 136 137 138 139 140 141 142 143 144\n",
      " 145 146 147 148 149 150 151 152 153 154 155 156 157 158 159 160 161 162\n",
      " 163 164 165 166 167 168 169 170 171 172 173 174 175 176 177 178 179 180\n",
      " 181 182 183 184 185 186 187 188 189 190 191 192 193 194 195 196 197 198\n",
      " 199 200 201 202 203 204 205 206 207 208 209 210 211 212 213 214 215 216\n",
      " 217 218 219 220 221 222 223 224 225 226 227 228 229 230 231 232 233 234\n",
      " 235 236 237 238 239 240 241 242 243 244 245 246 247 248 249 250 251 252\n",
      " 253 254 255 256 257 258 259 260 261 262 263 264 265 266 267 268 269 270\n",
      " 271 272 273 274 275 276 277 278 279 280 281 282 283 284 285 286 287 288\n",
      " 289 290 291 292 293 294 295 296 297 298 299 300 301 302 303 304 305 306\n",
      " 307 308 309 310 311 312 313 314 315 316 317 318 319 320 321 322 323 324\n",
      " 325 326 327 328 329 330 331 332 333 334 335 336 337 338 339 340 341 342\n",
      " 343 344 345 346 347 348 349 350 351 352 353 354 355 356 357 358 359 360\n",
      " 361 362 363 364 365 366 367 368 369 370 371 372 373 374 375 376 377 378\n",
      " 379 380 381 382 383 384 385 386 387 388 389 390 391 392 393 394 395 396\n",
      " 397 398 399 400 401 402 403 404 405 406 407 408 409 410 411 412 413 414\n",
      " 415 416 417 418 419 420 421 422 423 424 425 426 427 428 429 430 431 432\n",
      " 433 434 435 436 437 438 439 440 441 442 443 444 445 446 447 448 449 450\n",
      " 451 452 453 454 455 456 457 458 459 460 461 462 463 464 465 466 467 468\n",
      " 469 470]\n",
      "diagnose: ['DGN2' 'DGN3' 'DGN4' 'DGN8' 'DGN5' 'DGN6' 'DGN1']\n",
      "in_vol: [2.88 3.4  2.76 3.68 2.44 2.48 4.36 3.19 3.16 2.32 2.56 4.28 3.   3.98\n",
      " 1.96 4.68 2.21 2.96 2.6  4.48 3.32 2.36 4.32 4.56 3.24 3.96 4.44 1.81\n",
      " 2.2  4.2  4.6  3.8  3.2  2.68 3.56 4.16 2.64 2.52 4.   3.76 3.28 3.72\n",
      " 5.12 3.84 3.52 3.04 4.96 3.15 2.72 3.08 3.48 3.6  6.3  1.84 2.84 4.9\n",
      " 2.83 6.08 1.88 2.63 3.36 2.35 4.95 4.52 2.8  3.3  2.   3.31 5.6  2.12\n",
      " 2.5  4.84 2.92 2.08 2.16 5.17 3.64 3.92 3.88 3.44 3.12 2.4  2.57 2.28\n",
      " 4.04 1.44 5.08 4.92 2.73 2.98 4.08 2.24 4.72 3.58 2.22 2.66 2.87 4.24\n",
      " 4.8  4.76 2.46 5.52 4.88 5.49 5.56 3.81 2.07 1.7  4.57 4.12 4.59 5.16\n",
      " 1.98 2.1  4.65 2.58 5.03 2.94 1.82 3.05 2.04 2.38 4.03 5.   4.4  2.7\n",
      " 5.36 4.64 1.46 2.81 3.18 3.87 3.67 5.2 ]\n",
      "out_vol: [ 2.16  1.88  2.08  3.04  0.96  3.28  2.5   2.64  2.32  4.44  2.36  3.06\n",
      "  1.4   4.16  1.67  1.68  2.48  3.48  2.84  3.2  72.8   3.08  2.69  2.4\n",
      "  1.95  2.2   1.6   1.96  2.44  3.52  2.98  2.52  2.82  2.12  2.68  3.12\n",
      "  3.92  2.88  2.8   4.28  3.72  2.28  2.04  3.6   2.76  2.6   2.    1.76\n",
      "  1.8   2.72  2.92  5.48  1.28  1.44  1.64  4.19 66.4   4.92 67.3   2.67\n",
      "  3.24  4.12  2.96  4.2  64.1   3.32  2.24  2.56  1.    4.64  2.87  1.72\n",
      " 71.1   1.52  1.56  4.3   3.13  1.7   2.21  1.04  4.32  4.08  3.36  2.15\n",
      "  1.24  2.11  2.9   1.92  4.56  1.36  8.56  3.68  3.41  3.31  3.64  3.76\n",
      "  3.56  3.44  2.97  2.94 78.3   2.09  1.12  4.57  3.96  3.16  1.84  3.02\n",
      "  1.57 69.1   4.    3.78  4.96 79.3   1.48 76.    1.32 86.3   1.3  73.3\n",
      " 52.3   3.84  3.09  3.88  3.    2.33  1.9   2.39  4.04  2.31  2.73  1.2\n",
      "  1.82 76.8  60.9   4.1 ]\n",
      "pain: ['F' 'T']\n",
      "Haemoptysis: ['F' 'T']\n",
      "short_breath: ['F' 'T']\n",
      "cough: ['T' 'F']\n",
      "weekness: ['T' 'F']\n",
      "tumour_size: ['OC14' 'OC12' 'OC11' 'OC13']\n",
      "diabetes: ['F' 'T']\n",
      "breathing_difficulty: ['F' 'T']\n",
      "other_disease: ['F' 'T']\n",
      "smoking: ['T' 'F']\n",
      "asthma: ['F' 'T']\n",
      "age: [60 51 59 54 73 66 68 58 80 77 62 56 61 70 71 57 55 52 72 76 63 67 79 69\n",
      " 75 65 37 64 39 53 45 41 78 50 87 74 81 49 47 48 44 38 46 21 40]\n",
      "survive: [2 1]\n"
     ]
    }
   ],
   "source": [
    "for col in df:\n",
    "    print(f'{col}: {df[col].unique()}')"
   ]
  },
  {
   "cell_type": "code",
   "execution_count": 11,
   "id": "38784b6d",
   "metadata": {},
   "outputs": [
    {
     "data": {
      "image/png": "[encoded data removed]",
      "text/plain": [
       "<Figure size 432x288 with 1 Axes>"
      ]
     },
     "metadata": {
      "needs_background": "light"
     },
     "output_type": "display_data"
    }
   ],
   "source": [
    "import seaborn as sns\n",
    "\n",
    "sns.countplot(x='survive', data=df)\n",
    "plt.show()"
   ]
  },
  {
   "cell_type": "code",
   "execution_count": 12,
   "id": "6af100bb",
   "metadata": {},
   "outputs": [],
   "source": [
    "df =df.drop('id', axis =1)"
   ]
  },
  {
   "cell_type": "code",
   "execution_count": 13,
   "id": "8fb7e9e8",
   "metadata": {},
   "outputs": [],
   "source": [
    "df['pain'].replace({'T':1,'F':0},inplace=True)\n",
    "df['Haemoptysis'].replace({'T':1,'F':0},inplace=True)\n",
    "df['short_breath'].replace({'T':1,'F':0},inplace=True)\n",
    "df['cough'].replace({'T':1,'F':0},inplace=True)\n",
    "df['weekness'].replace({'T':1,'F':0},inplace=True)\n",
    "df['diabetes'].replace({'T':1,'F':0},inplace=True)\n",
    "df['breathing_difficulty'].replace({'T':1,'F':0},inplace=True)\n",
    "df['other_disease'].replace({'T':1,'F':0},inplace=True)\n",
    "df['smoking'].replace({'T':1,'F':0},inplace=True)\n",
    "df['asthma'].replace({'T':1,'F':0},inplace=True)"
   ]
  },
  {
   "cell_type": "code",
   "execution_count": 14,
   "id": "5586243f",
   "metadata": {},
   "outputs": [
    {
     "data": {
      "text/html": [
       "<div>\n",
       "<style scoped>\n",
       "    .dataframe tbody tr th:only-of-type {\n",
       "        vertical-align: middle;\n",
       "    }\n",
       "\n",
       "    .dataframe tbody tr th {\n",
       "        vertical-align: top;\n",
       "    }\n",
       "\n",
       "    .dataframe thead th {\n",
       "        text-align: right;\n",
       "    }\n",
       "</style>\n",
       "<table border=\"1\" class=\"dataframe\">\n",
       "  <thead>\n",
       "    <tr style=\"text-align: right;\">\n",
       "      <th></th>\n",
       "      <th>diagnose</th>\n",
       "      <th>in_vol</th>\n",
       "      <th>out_vol</th>\n",
       "      <th>pain</th>\n",
       "      <th>Haemoptysis</th>\n",
       "      <th>short_breath</th>\n",
       "      <th>cough</th>\n",
       "      <th>weekness</th>\n",
       "      <th>tumour_size</th>\n",
       "      <th>diabetes</th>\n",
       "      <th>breathing_difficulty</th>\n",
       "      <th>other_disease</th>\n",
       "      <th>smoking</th>\n",
       "      <th>asthma</th>\n",
       "      <th>age</th>\n",
       "      <th>survive</th>\n",
       "    </tr>\n",
       "  </thead>\n",
       "  <tbody>\n",
       "    <tr>\n",
       "      <th>0</th>\n",
       "      <td>DGN2</td>\n",
       "      <td>2.88</td>\n",
       "      <td>2.16</td>\n",
       "      <td>0</td>\n",
       "      <td>0</td>\n",
       "      <td>0</td>\n",
       "      <td>1</td>\n",
       "      <td>1</td>\n",
       "      <td>OC14</td>\n",
       "      <td>0</td>\n",
       "      <td>0</td>\n",
       "      <td>0</td>\n",
       "      <td>1</td>\n",
       "      <td>0</td>\n",
       "      <td>60</td>\n",
       "      <td>2</td>\n",
       "    </tr>\n",
       "    <tr>\n",
       "      <th>1</th>\n",
       "      <td>DGN3</td>\n",
       "      <td>3.40</td>\n",
       "      <td>1.88</td>\n",
       "      <td>0</td>\n",
       "      <td>0</td>\n",
       "      <td>0</td>\n",
       "      <td>0</td>\n",
       "      <td>0</td>\n",
       "      <td>OC12</td>\n",
       "      <td>0</td>\n",
       "      <td>0</td>\n",
       "      <td>0</td>\n",
       "      <td>1</td>\n",
       "      <td>0</td>\n",
       "      <td>51</td>\n",
       "      <td>2</td>\n",
       "    </tr>\n",
       "    <tr>\n",
       "      <th>2</th>\n",
       "      <td>DGN3</td>\n",
       "      <td>2.76</td>\n",
       "      <td>2.08</td>\n",
       "      <td>0</td>\n",
       "      <td>0</td>\n",
       "      <td>0</td>\n",
       "      <td>1</td>\n",
       "      <td>0</td>\n",
       "      <td>OC11</td>\n",
       "      <td>0</td>\n",
       "      <td>0</td>\n",
       "      <td>0</td>\n",
       "      <td>1</td>\n",
       "      <td>0</td>\n",
       "      <td>59</td>\n",
       "      <td>2</td>\n",
       "    </tr>\n",
       "    <tr>\n",
       "      <th>3</th>\n",
       "      <td>DGN3</td>\n",
       "      <td>3.68</td>\n",
       "      <td>3.04</td>\n",
       "      <td>0</td>\n",
       "      <td>0</td>\n",
       "      <td>0</td>\n",
       "      <td>0</td>\n",
       "      <td>0</td>\n",
       "      <td>OC11</td>\n",
       "      <td>0</td>\n",
       "      <td>0</td>\n",
       "      <td>0</td>\n",
       "      <td>0</td>\n",
       "      <td>0</td>\n",
       "      <td>54</td>\n",
       "      <td>2</td>\n",
       "    </tr>\n",
       "    <tr>\n",
       "      <th>4</th>\n",
       "      <td>DGN3</td>\n",
       "      <td>2.44</td>\n",
       "      <td>0.96</td>\n",
       "      <td>0</td>\n",
       "      <td>1</td>\n",
       "      <td>0</td>\n",
       "      <td>1</td>\n",
       "      <td>1</td>\n",
       "      <td>OC11</td>\n",
       "      <td>0</td>\n",
       "      <td>0</td>\n",
       "      <td>0</td>\n",
       "      <td>1</td>\n",
       "      <td>0</td>\n",
       "      <td>73</td>\n",
       "      <td>1</td>\n",
       "    </tr>\n",
       "  </tbody>\n",
       "</table>\n",
       "</div>"
      ],
      "text/plain": [
       "  diagnose  in_vol  out_vol  pain  Haemoptysis  short_breath  cough  weekness  \\\n",
       "0     DGN2    2.88     2.16     0            0             0      1         1   \n",
       "1     DGN3    3.40     1.88     0            0             0      0         0   \n",
       "2     DGN3    2.76     2.08     0            0             0      1         0   \n",
       "3     DGN3    3.68     3.04     0            0             0      0         0   \n",
       "4     DGN3    2.44     0.96     0            1             0      1         1   \n",
       "\n",
       "  tumour_size  diabetes  breathing_difficulty  other_disease  smoking  asthma  \\\n",
       "0        OC14         0                     0              0        1       0   \n",
       "1        OC12         0                     0              0        1       0   \n",
       "2        OC11         0                     0              0        1       0   \n",
       "3        OC11         0                     0              0        0       0   \n",
       "4        OC11         0                     0              0        1       0   \n",
       "\n",
       "   age  survive  \n",
       "0   60        2  \n",
       "1   51        2  \n",
       "2   59        2  \n",
       "3   54        2  \n",
       "4   73        1  "
      ]
     },
     "execution_count": 14,
     "metadata": {},
     "output_type": "execute_result"
    }
   ],
   "source": [
    "df.head()"
   ]
  },
  {
   "cell_type": "code",
   "execution_count": 15,
   "id": "3c38c035",
   "metadata": {},
   "outputs": [],
   "source": [
    "df = pd.get_dummies(data = df, columns=['diagnose','tumour_size'])"
   ]
  },
  {
   "cell_type": "code",
   "execution_count": 16,
   "id": "64aec1b5",
   "metadata": {},
   "outputs": [
    {
     "data": {
      "text/html": [
       "<div>\n",
       "<style scoped>\n",
       "    .dataframe tbody tr th:only-of-type {\n",
       "        vertical-align: middle;\n",
       "    }\n",
       "\n",
       "    .dataframe tbody tr th {\n",
       "        vertical-align: top;\n",
       "    }\n",
       "\n",
       "    .dataframe thead th {\n",
       "        text-align: right;\n",
       "    }\n",
       "</style>\n",
       "<table border=\"1\" class=\"dataframe\">\n",
       "  <thead>\n",
       "    <tr style=\"text-align: right;\">\n",
       "      <th></th>\n",
       "      <th>in_vol</th>\n",
       "      <th>out_vol</th>\n",
       "      <th>pain</th>\n",
       "      <th>Haemoptysis</th>\n",
       "      <th>short_breath</th>\n",
       "      <th>cough</th>\n",
       "      <th>weekness</th>\n",
       "      <th>diabetes</th>\n",
       "      <th>breathing_difficulty</th>\n",
       "      <th>other_disease</th>\n",
       "      <th>...</th>\n",
       "      <th>diagnose_DGN2</th>\n",
       "      <th>diagnose_DGN3</th>\n",
       "      <th>diagnose_DGN4</th>\n",
       "      <th>diagnose_DGN5</th>\n",
       "      <th>diagnose_DGN6</th>\n",
       "      <th>diagnose_DGN8</th>\n",
       "      <th>tumour_size_OC11</th>\n",
       "      <th>tumour_size_OC12</th>\n",
       "      <th>tumour_size_OC13</th>\n",
       "      <th>tumour_size_OC14</th>\n",
       "    </tr>\n",
       "  </thead>\n",
       "  <tbody>\n",
       "    <tr>\n",
       "      <th>0</th>\n",
       "      <td>2.88</td>\n",
       "      <td>2.16</td>\n",
       "      <td>0</td>\n",
       "      <td>0</td>\n",
       "      <td>0</td>\n",
       "      <td>1</td>\n",
       "      <td>1</td>\n",
       "      <td>0</td>\n",
       "      <td>0</td>\n",
       "      <td>0</td>\n",
       "      <td>...</td>\n",
       "      <td>1</td>\n",
       "      <td>0</td>\n",
       "      <td>0</td>\n",
       "      <td>0</td>\n",
       "      <td>0</td>\n",
       "      <td>0</td>\n",
       "      <td>0</td>\n",
       "      <td>0</td>\n",
       "      <td>0</td>\n",
       "      <td>1</td>\n",
       "    </tr>\n",
       "    <tr>\n",
       "      <th>1</th>\n",
       "      <td>3.40</td>\n",
       "      <td>1.88</td>\n",
       "      <td>0</td>\n",
       "      <td>0</td>\n",
       "      <td>0</td>\n",
       "      <td>0</td>\n",
       "      <td>0</td>\n",
       "      <td>0</td>\n",
       "      <td>0</td>\n",
       "      <td>0</td>\n",
       "      <td>...</td>\n",
       "      <td>0</td>\n",
       "      <td>1</td>\n",
       "      <td>0</td>\n",
       "      <td>0</td>\n",
       "      <td>0</td>\n",
       "      <td>0</td>\n",
       "      <td>0</td>\n",
       "      <td>1</td>\n",
       "      <td>0</td>\n",
       "      <td>0</td>\n",
       "    </tr>\n",
       "    <tr>\n",
       "      <th>2</th>\n",
       "      <td>2.76</td>\n",
       "      <td>2.08</td>\n",
       "      <td>0</td>\n",
       "      <td>0</td>\n",
       "      <td>0</td>\n",
       "      <td>1</td>\n",
       "      <td>0</td>\n",
       "      <td>0</td>\n",
       "      <td>0</td>\n",
       "      <td>0</td>\n",
       "      <td>...</td>\n",
       "      <td>0</td>\n",
       "      <td>1</td>\n",
       "      <td>0</td>\n",
       "      <td>0</td>\n",
       "      <td>0</td>\n",
       "      <td>0</td>\n",
       "      <td>1</td>\n",
       "      <td>0</td>\n",
       "      <td>0</td>\n",
       "      <td>0</td>\n",
       "    </tr>\n",
       "    <tr>\n",
       "      <th>3</th>\n",
       "      <td>3.68</td>\n",
       "      <td>3.04</td>\n",
       "      <td>0</td>\n",
       "      <td>0</td>\n",
       "      <td>0</td>\n",
       "      <td>0</td>\n",
       "      <td>0</td>\n",
       "      <td>0</td>\n",
       "      <td>0</td>\n",
       "      <td>0</td>\n",
       "      <td>...</td>\n",
       "      <td>0</td>\n",
       "      <td>1</td>\n",
       "      <td>0</td>\n",
       "      <td>0</td>\n",
       "      <td>0</td>\n",
       "      <td>0</td>\n",
       "      <td>1</td>\n",
       "      <td>0</td>\n",
       "      <td>0</td>\n",
       "      <td>0</td>\n",
       "    </tr>\n",
       "    <tr>\n",
       "      <th>4</th>\n",
       "      <td>2.44</td>\n",
       "      <td>0.96</td>\n",
       "      <td>0</td>\n",
       "      <td>1</td>\n",
       "      <td>0</td>\n",
       "      <td>1</td>\n",
       "      <td>1</td>\n",
       "      <td>0</td>\n",
       "      <td>0</td>\n",
       "      <td>0</td>\n",
       "      <td>...</td>\n",
       "      <td>0</td>\n",
       "      <td>1</td>\n",
       "      <td>0</td>\n",
       "      <td>0</td>\n",
       "      <td>0</td>\n",
       "      <td>0</td>\n",
       "      <td>1</td>\n",
       "      <td>0</td>\n",
       "      <td>0</td>\n",
       "      <td>0</td>\n",
       "    </tr>\n",
       "  </tbody>\n",
       "</table>\n",
       "<p>5 rows × 25 columns</p>\n",
       "</div>"
      ],
      "text/plain": [
       "   in_vol  out_vol  pain  Haemoptysis  short_breath  cough  weekness  \\\n",
       "0    2.88     2.16     0            0             0      1         1   \n",
       "1    3.40     1.88     0            0             0      0         0   \n",
       "2    2.76     2.08     0            0             0      1         0   \n",
       "3    3.68     3.04     0            0             0      0         0   \n",
       "4    2.44     0.96     0            1             0      1         1   \n",
       "\n",
       "   diabetes  breathing_difficulty  other_disease  ...  diagnose_DGN2  \\\n",
       "0         0                     0              0  ...              1   \n",
       "1         0                     0              0  ...              0   \n",
       "2         0                     0              0  ...              0   \n",
       "3         0                     0              0  ...              0   \n",
       "4         0                     0              0  ...              0   \n",
       "\n",
       "   diagnose_DGN3  diagnose_DGN4  diagnose_DGN5  diagnose_DGN6  diagnose_DGN8  \\\n",
       "0              0              0              0              0              0   \n",
       "1              1              0              0              0              0   \n",
       "2              1              0              0              0              0   \n",
       "3              1              0              0              0              0   \n",
       "4              1              0              0              0              0   \n",
       "\n",
       "   tumour_size_OC11  tumour_size_OC12  tumour_size_OC13  tumour_size_OC14  \n",
       "0                 0                 0                 0                 1  \n",
       "1                 0                 1                 0                 0  \n",
       "2                 1                 0                 0                 0  \n",
       "3                 1                 0                 0                 0  \n",
       "4                 1                 0                 0                 0  \n",
       "\n",
       "[5 rows x 25 columns]"
      ]
     },
     "execution_count": 16,
     "metadata": {},
     "output_type": "execute_result"
    }
   ],
   "source": [
    "df.head()"
   ]
  },
  {
   "cell_type": "code",
   "execution_count": 17,
   "id": "d1155a03",
   "metadata": {},
   "outputs": [],
   "source": [
    "x = df.drop('survive', axis = 1)\n",
    "y = df['survive']"
   ]
  },
  {
   "cell_type": "code",
   "execution_count": 18,
   "id": "a93fc9ff",
   "metadata": {},
   "outputs": [
    {
     "data": {
      "text/plain": [
       "2    400\n",
       "1     70\n",
       "Name: survive, dtype: int64"
      ]
     },
     "execution_count": 18,
     "metadata": {},
     "output_type": "execute_result"
    }
   ],
   "source": [
    "y.value_counts()"
   ]
  },
  {
   "cell_type": "code",
   "execution_count": 19,
   "id": "c67a2ebe",
   "metadata": {},
   "outputs": [],
   "source": [
    "from imblearn.over_sampling import SMOTE\n",
    "smote = SMOTE()\n",
    "x_smote, y_smote = smote.fit_resample(x,y)"
   ]
  },
  {
   "cell_type": "code",
   "execution_count": null,
   "id": "d2b9959f",
   "metadata": {},
   "outputs": [],
   "source": []
  },
  {
   "cell_type": "code",
   "execution_count": 20,
   "id": "49de6ef2",
   "metadata": {},
   "outputs": [
    {
     "data": {
      "text/plain": [
       "2    400\n",
       "1    400\n",
       "Name: survive, dtype: int64"
      ]
     },
     "execution_count": 20,
     "metadata": {},
     "output_type": "execute_result"
    }
   ],
   "source": [
    "y_smote.value_counts()"
   ]
  },
  {
   "cell_type": "code",
   "execution_count": 21,
   "id": "ad5b26ee",
   "metadata": {},
   "outputs": [
    {
     "data": {
      "text/plain": [
       "(470, 25)"
      ]
     },
     "execution_count": 21,
     "metadata": {},
     "output_type": "execute_result"
    }
   ],
   "source": [
    "df.shape"
   ]
  },
  {
   "cell_type": "code",
   "execution_count": 22,
   "id": "25f66290",
   "metadata": {},
   "outputs": [],
   "source": [
    "from sklearn.model_selection import train_test_split\n",
    "x_train, x_test, y_train, y_test = train_test_split(x_smote,y_smote,test_size=0.2,random_state = 5)"
   ]
  },
  {
   "cell_type": "code",
   "execution_count": 23,
   "id": "b0053412",
   "metadata": {},
   "outputs": [
    {
     "data": {
      "text/plain": [
       "1    323\n",
       "2    317\n",
       "Name: survive, dtype: int64"
      ]
     },
     "execution_count": 23,
     "metadata": {},
     "output_type": "execute_result"
    }
   ],
   "source": [
    "y_train.value_counts()"
   ]
  },
  {
   "cell_type": "code",
   "execution_count": 24,
   "id": "f6990b14",
   "metadata": {},
   "outputs": [
    {
     "data": {
      "text/plain": [
       "2    83\n",
       "1    77\n",
       "Name: survive, dtype: int64"
      ]
     },
     "execution_count": 24,
     "metadata": {},
     "output_type": "execute_result"
    }
   ],
   "source": [
    "y_test.value_counts()"
   ]
  },
  {
   "cell_type": "code",
   "execution_count": 25,
   "id": "e2fd7a0d",
   "metadata": {},
   "outputs": [
    {
     "data": {
      "text/plain": [
       "((640, 24), (160, 24), (640,), (160,))"
      ]
     },
     "execution_count": 25,
     "metadata": {},
     "output_type": "execute_result"
    }
   ],
   "source": [
    "x_train.shape, x_test.shape, y_train.shape, y_test.shape"
   ]
  },
  {
   "cell_type": "code",
   "execution_count": 26,
   "id": "40a3272c",
   "metadata": {},
   "outputs": [],
   "source": [
    "def model_accuracy(model):\n",
    "    model.fit(x_train, y_train)\n",
    "    accuracy = model.score(x_test, y_test)\n",
    "    print(str(model)+ ' = ' +str(accuracy))"
   ]
  },
  {
   "cell_type": "code",
   "execution_count": 30,
   "id": "48dceadc",
   "metadata": {},
   "outputs": [
    {
     "name": "stdout",
     "output_type": "stream",
     "text": [
      "LinearRegression() = 0.38188996566394817\n",
      "DecisionTreeRegressor() = 0.549366296354248\n",
      "RandomForestRegressor() = 0.7307663902362698\n",
      "GaussianNB() = 0.51875\n"
     ]
    }
   ],
   "source": [
    "from sklearn.linear_model import LinearRegression\n",
    "lr = LinearRegression()\n",
    "model_accuracy(lr)\n",
    "\n",
    "from sklearn.tree import DecisionTreeRegressor\n",
    "dt = DecisionTreeRegressor()\n",
    "model_accuracy(dt)\n",
    "\n",
    "from sklearn.ensemble import RandomForestRegressor\n",
    "rf = RandomForestRegressor()\n",
    "model_accuracy(rf)\n",
    "\n",
    "from sklearn.naive_bayes import GaussianNB\n",
    "nb = GaussianNB()\n",
    "model_accuracy(nb)\n"
   ]
  },
  {
   "cell_type": "code",
   "execution_count": 28,
   "id": "8ce48b08",
   "metadata": {},
   "outputs": [
    {
     "data": {
      "text/plain": [
       "0.7408055077452667"
      ]
     },
     "execution_count": 28,
     "metadata": {},
     "output_type": "execute_result"
    }
   ],
   "source": [
    "from sklearn.model_selection import GridSearchCV\n",
    "\n",
    "parameters = {'n_estimators':[10, 50, 100],\n",
    "              'criterion':['squared_error','absolute_error','poisson']}\n",
    "\n",
    "grid_obj = GridSearchCV(estimator=rf, param_grid=parameters)\n",
    "\n",
    "grid_fit = grid_obj.fit(x_train, y_train)\n",
    "\n",
    "best_model = grid_fit.best_estimator_\n",
    "\n",
    "best_model.score(x_test, y_test)"
   ]
  },
  {
   "cell_type": "code",
   "execution_count": 29,
   "id": "62ef51f2",
   "metadata": {},
   "outputs": [
    {
     "data": {
      "text/html": [
       "<div>\n",
       "<style scoped>\n",
       "    .dataframe tbody tr th:only-of-type {\n",
       "        vertical-align: middle;\n",
       "    }\n",
       "\n",
       "    .dataframe tbody tr th {\n",
       "        vertical-align: top;\n",
       "    }\n",
       "\n",
       "    .dataframe thead th {\n",
       "        text-align: right;\n",
       "    }\n",
       "</style>\n",
       "<table border=\"1\" class=\"dataframe\">\n",
       "  <thead>\n",
       "    <tr style=\"text-align: right;\">\n",
       "      <th></th>\n",
       "      <th>in_vol</th>\n",
       "      <th>out_vol</th>\n",
       "      <th>pain</th>\n",
       "      <th>Haemoptysis</th>\n",
       "      <th>short_breath</th>\n",
       "      <th>cough</th>\n",
       "      <th>weekness</th>\n",
       "      <th>diabetes</th>\n",
       "      <th>breathing_difficulty</th>\n",
       "      <th>other_disease</th>\n",
       "      <th>...</th>\n",
       "      <th>diagnose_DGN2</th>\n",
       "      <th>diagnose_DGN3</th>\n",
       "      <th>diagnose_DGN4</th>\n",
       "      <th>diagnose_DGN5</th>\n",
       "      <th>diagnose_DGN6</th>\n",
       "      <th>diagnose_DGN8</th>\n",
       "      <th>tumour_size_OC11</th>\n",
       "      <th>tumour_size_OC12</th>\n",
       "      <th>tumour_size_OC13</th>\n",
       "      <th>tumour_size_OC14</th>\n",
       "    </tr>\n",
       "  </thead>\n",
       "  <tbody>\n",
       "    <tr>\n",
       "      <th>0</th>\n",
       "      <td>2.88</td>\n",
       "      <td>2.16</td>\n",
       "      <td>0</td>\n",
       "      <td>0</td>\n",
       "      <td>0</td>\n",
       "      <td>1</td>\n",
       "      <td>1</td>\n",
       "      <td>0</td>\n",
       "      <td>0</td>\n",
       "      <td>0</td>\n",
       "      <td>...</td>\n",
       "      <td>1</td>\n",
       "      <td>0</td>\n",
       "      <td>0</td>\n",
       "      <td>0</td>\n",
       "      <td>0</td>\n",
       "      <td>0</td>\n",
       "      <td>0</td>\n",
       "      <td>0</td>\n",
       "      <td>0</td>\n",
       "      <td>1</td>\n",
       "    </tr>\n",
       "    <tr>\n",
       "      <th>1</th>\n",
       "      <td>3.40</td>\n",
       "      <td>1.88</td>\n",
       "      <td>0</td>\n",
       "      <td>0</td>\n",
       "      <td>0</td>\n",
       "      <td>0</td>\n",
       "      <td>0</td>\n",
       "      <td>0</td>\n",
       "      <td>0</td>\n",
       "      <td>0</td>\n",
       "      <td>...</td>\n",
       "      <td>0</td>\n",
       "      <td>1</td>\n",
       "      <td>0</td>\n",
       "      <td>0</td>\n",
       "      <td>0</td>\n",
       "      <td>0</td>\n",
       "      <td>0</td>\n",
       "      <td>1</td>\n",
       "      <td>0</td>\n",
       "      <td>0</td>\n",
       "    </tr>\n",
       "    <tr>\n",
       "      <th>2</th>\n",
       "      <td>2.76</td>\n",
       "      <td>2.08</td>\n",
       "      <td>0</td>\n",
       "      <td>0</td>\n",
       "      <td>0</td>\n",
       "      <td>1</td>\n",
       "      <td>0</td>\n",
       "      <td>0</td>\n",
       "      <td>0</td>\n",
       "      <td>0</td>\n",
       "      <td>...</td>\n",
       "      <td>0</td>\n",
       "      <td>1</td>\n",
       "      <td>0</td>\n",
       "      <td>0</td>\n",
       "      <td>0</td>\n",
       "      <td>0</td>\n",
       "      <td>1</td>\n",
       "      <td>0</td>\n",
       "      <td>0</td>\n",
       "      <td>0</td>\n",
       "    </tr>\n",
       "    <tr>\n",
       "      <th>3</th>\n",
       "      <td>3.68</td>\n",
       "      <td>3.04</td>\n",
       "      <td>0</td>\n",
       "      <td>0</td>\n",
       "      <td>0</td>\n",
       "      <td>0</td>\n",
       "      <td>0</td>\n",
       "      <td>0</td>\n",
       "      <td>0</td>\n",
       "      <td>0</td>\n",
       "      <td>...</td>\n",
       "      <td>0</td>\n",
       "      <td>1</td>\n",
       "      <td>0</td>\n",
       "      <td>0</td>\n",
       "      <td>0</td>\n",
       "      <td>0</td>\n",
       "      <td>1</td>\n",
       "      <td>0</td>\n",
       "      <td>0</td>\n",
       "      <td>0</td>\n",
       "    </tr>\n",
       "    <tr>\n",
       "      <th>4</th>\n",
       "      <td>2.44</td>\n",
       "      <td>0.96</td>\n",
       "      <td>0</td>\n",
       "      <td>1</td>\n",
       "      <td>0</td>\n",
       "      <td>1</td>\n",
       "      <td>1</td>\n",
       "      <td>0</td>\n",
       "      <td>0</td>\n",
       "      <td>0</td>\n",
       "      <td>...</td>\n",
       "      <td>0</td>\n",
       "      <td>1</td>\n",
       "      <td>0</td>\n",
       "      <td>0</td>\n",
       "      <td>0</td>\n",
       "      <td>0</td>\n",
       "      <td>1</td>\n",
       "      <td>0</td>\n",
       "      <td>0</td>\n",
       "      <td>0</td>\n",
       "    </tr>\n",
       "  </tbody>\n",
       "</table>\n",
       "<p>5 rows × 25 columns</p>\n",
       "</div>"
      ],
      "text/plain": [
       "   in_vol  out_vol  pain  Haemoptysis  short_breath  cough  weekness  \\\n",
       "0    2.88     2.16     0            0             0      1         1   \n",
       "1    3.40     1.88     0            0             0      0         0   \n",
       "2    2.76     2.08     0            0             0      1         0   \n",
       "3    3.68     3.04     0            0             0      0         0   \n",
       "4    2.44     0.96     0            1             0      1         1   \n",
       "\n",
       "   diabetes  breathing_difficulty  other_disease  ...  diagnose_DGN2  \\\n",
       "0         0                     0              0  ...              1   \n",
       "1         0                     0              0  ...              0   \n",
       "2         0                     0              0  ...              0   \n",
       "3         0                     0              0  ...              0   \n",
       "4         0                     0              0  ...              0   \n",
       "\n",
       "   diagnose_DGN3  diagnose_DGN4  diagnose_DGN5  diagnose_DGN6  diagnose_DGN8  \\\n",
       "0              0              0              0              0              0   \n",
       "1              1              0              0              0              0   \n",
       "2              1              0              0              0              0   \n",
       "3              1              0              0              0              0   \n",
       "4              1              0              0              0              0   \n",
       "\n",
       "   tumour_size_OC11  tumour_size_OC12  tumour_size_OC13  tumour_size_OC14  \n",
       "0                 0                 0                 0                 1  \n",
       "1                 0                 1                 0                 0  \n",
       "2                 1                 0                 0                 0  \n",
       "3                 1                 0                 0                 0  \n",
       "4                 1                 0                 0                 0  \n",
       "\n",
       "[5 rows x 25 columns]"
      ]
     },
     "execution_count": 29,
     "metadata": {},
     "output_type": "execute_result"
    }
   ],
   "source": [
    "df.head()"
   ]
  },
  {
   "cell_type": "code",
   "execution_count": 32,
   "id": "fac5adae",
   "metadata": {},
   "outputs": [
    {
     "data": {
      "text/plain": [
       "Index(['in_vol', 'out_vol', 'pain', 'Haemoptysis', 'short_breath', 'cough',\n",
       "       'weekness', 'diabetes', 'breathing_difficulty', 'other_disease',\n",
       "       'smoking', 'asthma', 'age', 'diagnose_DGN1', 'diagnose_DGN2',\n",
       "       'diagnose_DGN3', 'diagnose_DGN4', 'diagnose_DGN5', 'diagnose_DGN6',\n",
       "       'diagnose_DGN8', 'tumour_size_OC11', 'tumour_size_OC12',\n",
       "       'tumour_size_OC13', 'tumour_size_OC14'],\n",
       "      dtype='object')"
      ]
     },
     "execution_count": 32,
     "metadata": {},
     "output_type": "execute_result"
    }
   ],
   "source": [
    "x_test.columns"
   ]
  },
  {
   "cell_type": "code",
   "execution_count": 33,
   "id": "34ab4f07",
   "metadata": {},
   "outputs": [],
   "source": [
    "import pickle\n",
    "with open('predictor.pickle', 'wb') as file:\n",
    "    pickle.dump(best_model, file)"
   ]
  },
  {
   "cell_type": "code",
   "execution_count": 34,
   "id": "b6239d12",
   "metadata": {},
   "outputs": [
    {
     "data": {
      "text/plain": [
       "28     2\n",
       "654    1\n",
       "383    2\n",
       "648    1\n",
       "247    2\n",
       "628    1\n",
       "405    2\n",
       "258    2\n",
       "390    2\n",
       "322    2\n",
       "Name: survive, dtype: int64"
      ]
     },
     "execution_count": 34,
     "metadata": {},
     "output_type": "execute_result"
    }
   ],
   "source": [
    "y_test[:10]"
   ]
  },
  {
   "cell_type": "code",
   "execution_count": 39,
   "id": "cfd79742",
   "metadata": {},
   "outputs": [
    {
     "data": {
      "text/plain": [
       "array([1.95, 1.01, 1.99, 1.21, 1.8 , 1.12, 1.94, 1.97, 1.83, 1.76])"
      ]
     },
     "execution_count": 39,
     "metadata": {},
     "output_type": "execute_result"
    }
   ],
   "source": [
    "yp = rf.predict(x_test)\n",
    "yp[:10]\n"
   ]
  },
  {
   "cell_type": "code",
   "execution_count": 40,
   "id": "43f0d210",
   "metadata": {},
   "outputs": [
    {
     "data": {
      "text/plain": [
       "[2, 1, 2, 1, 2, 1, 2, 2, 2, 2]"
      ]
     },
     "execution_count": 40,
     "metadata": {},
     "output_type": "execute_result"
    }
   ],
   "source": [
    "y_pred = []\n",
    "for element in yp:\n",
    "    if element > 1.5:\n",
    "        y_pred.append(2)\n",
    "    else:\n",
    "        y_pred.append(1)\n",
    "\n",
    "y_pred[:10]"
   ]
  },
  {
   "cell_type": "code",
   "execution_count": 42,
   "id": "25797666",
   "metadata": {},
   "outputs": [
    {
     "data": {
      "text/plain": [
       "Text(69.0, 0.5, 'Truth')"
      ]
     },
     "execution_count": 42,
     "metadata": {},
     "output_type": "execute_result"
    },
    {
     "data": {
      "image/png": "[encoded data removed]",
      "text/plain": [
       "<Figure size 720x504 with 2 Axes>"
      ]
     },
     "metadata": {
      "needs_background": "light"
     },
     "output_type": "display_data"
    }
   ],
   "source": [
    "import tensorflow as tf\n",
    "from tensorflow import keras\n",
    "import seaborn as sn\n",
    "cm = tf.math.confusion_matrix(labels=y_test,predictions=y_pred)\n",
    "\n",
    "plt.figure(figsize = (10,7))\n",
    "sn.heatmap(cm, annot=True, fmt='d')\n",
    "plt.xlabel('Predicted')\n",
    "plt.ylabel('Truth')"
   ]
  },
  {
   "cell_type": "code",
   "execution_count": null,
   "id": "303dcd24",
   "metadata": {},
   "outputs": [],
   "source": []
  }
 ],
 "metadata": {
  "kernelspec": {
   "display_name": "Python 3 (ipykernel)",
   "language": "python",
   "name": "python3"
  },
  "language_info": {
   "codemirror_mode": {
    "name": "ipython",
    "version": 3
   },
   "file_extension": ".py",
   "mimetype": "text/x-python",
   "name": "python",
   "nbconvert_exporter": "python",
   "pygments_lexer": "ipython3",
   "version": "3.9.12"
  }
 },
 "nbformat": 4,
 "nbformat_minor": 5
}
